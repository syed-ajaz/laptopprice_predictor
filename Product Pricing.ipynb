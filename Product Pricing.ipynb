{
 "cells": [
  {
   "cell_type": "code",
   "execution_count": 106,
   "id": "a3647bbe",
   "metadata": {},
   "outputs": [],
   "source": [
    "import warnings\n",
    "warnings.filterwarnings('ignore')"
   ]
  },
  {
   "cell_type": "code",
   "execution_count": 107,
   "id": "d8b70855",
   "metadata": {},
   "outputs": [],
   "source": [
    "import pandas as pd\n",
    "import numpy as np\n",
    "import re\n",
    "import math\n",
    "import matplotlib.pyplot as plt\n",
    "import seaborn as sns"
   ]
  },
  {
   "cell_type": "code",
   "execution_count": 108,
   "id": "cfe895c9",
   "metadata": {},
   "outputs": [],
   "source": [
    "df = pd.read_csv('C:\\\\Users\\\\Home\\\\Desktop\\\\Data Science\\\\DS_Internship\\\\Assignments\\\\Case Study\\\\Flipkart_laptop\\\\laptop_details.csv')"
   ]
  },
  {
   "cell_type": "code",
   "execution_count": 109,
   "id": "1001df90",
   "metadata": {},
   "outputs": [
    {
     "data": {
      "text/html": [
       "<div>\n",
       "<style scoped>\n",
       "    .dataframe tbody tr th:only-of-type {\n",
       "        vertical-align: middle;\n",
       "    }\n",
       "\n",
       "    .dataframe tbody tr th {\n",
       "        vertical-align: top;\n",
       "    }\n",
       "\n",
       "    .dataframe thead th {\n",
       "        text-align: right;\n",
       "    }\n",
       "</style>\n",
       "<table border=\"1\" class=\"dataframe\">\n",
       "  <thead>\n",
       "    <tr style=\"text-align: right;\">\n",
       "      <th></th>\n",
       "      <th>Product</th>\n",
       "      <th>Rating</th>\n",
       "      <th>MRP</th>\n",
       "      <th>Feature</th>\n",
       "    </tr>\n",
       "  </thead>\n",
       "  <tbody>\n",
       "    <tr>\n",
       "      <th>0</th>\n",
       "      <td>Lenovo IdeaPad 3 Core i3 11th Gen - (8 GB/256 ...</td>\n",
       "      <td>4.2</td>\n",
       "      <td>₹36,990</td>\n",
       "      <td>Intel Core i3 Processor (11th Gen)8 GB DDR4 RA...</td>\n",
       "    </tr>\n",
       "  </tbody>\n",
       "</table>\n",
       "</div>"
      ],
      "text/plain": [
       "                                             Product  Rating      MRP  \\\n",
       "0  Lenovo IdeaPad 3 Core i3 11th Gen - (8 GB/256 ...     4.2  ₹36,990   \n",
       "\n",
       "                                             Feature  \n",
       "0  Intel Core i3 Processor (11th Gen)8 GB DDR4 RA...  "
      ]
     },
     "execution_count": 109,
     "metadata": {},
     "output_type": "execute_result"
    }
   ],
   "source": [
    "df.head(1)"
   ]
  },
  {
   "cell_type": "code",
   "execution_count": 110,
   "id": "89aa2d0e",
   "metadata": {},
   "outputs": [],
   "source": [
    "#pd.set_option('display.max_colwidth', None)"
   ]
  },
  {
   "cell_type": "code",
   "execution_count": 111,
   "id": "ce430e83",
   "metadata": {},
   "outputs": [
    {
     "data": {
      "text/plain": [
       "(720, 4)"
      ]
     },
     "execution_count": 111,
     "metadata": {},
     "output_type": "execute_result"
    }
   ],
   "source": [
    "df.shape"
   ]
  },
  {
   "cell_type": "code",
   "execution_count": 112,
   "id": "39020971",
   "metadata": {},
   "outputs": [
    {
     "data": {
      "text/plain": [
       "Index(['Product', 'Rating', 'MRP', 'Feature'], dtype='object')"
      ]
     },
     "execution_count": 112,
     "metadata": {},
     "output_type": "execute_result"
    }
   ],
   "source": [
    "df.columns"
   ]
  },
  {
   "cell_type": "code",
   "execution_count": 113,
   "id": "705e9115",
   "metadata": {},
   "outputs": [],
   "source": [
    "regex = r'^\\w+'\n",
    "df['Brand'] = df['Product'].apply(lambda x : re.findall(regex,x))"
   ]
  },
  {
   "cell_type": "code",
   "execution_count": 114,
   "id": "07cabcda",
   "metadata": {},
   "outputs": [],
   "source": [
    "regex = r'^(?:AMD|Intel|Apple)[\\s\\w]+Processor'\n",
    "df['Processor'] = df['Feature'].apply(lambda x : re.findall(regex,x))"
   ]
  },
  {
   "cell_type": "code",
   "execution_count": 115,
   "id": "093e1ae9",
   "metadata": {},
   "outputs": [],
   "source": [
    "regex = r'(?:[0-9][0-9]th).Gen'\n",
    "df['Gen'] = df['Feature'].apply(lambda x : re.findall(regex,x))"
   ]
  },
  {
   "cell_type": "code",
   "execution_count": 116,
   "id": "4ec19216",
   "metadata": {},
   "outputs": [],
   "source": [
    "regex = r'\\d+\\sGB[\\s\\w]+RAM'\n",
    "df['RAM'] = df['Feature'].apply(lambda x : re.findall(regex,x))"
   ]
  },
  {
   "cell_type": "code",
   "execution_count": 117,
   "id": "3cf1b6e7",
   "metadata": {},
   "outputs": [],
   "source": [
    "regex = r'DDR\\d'\n",
    "df['Type'] = df['Feature'].apply(lambda x : re.findall(regex,x))"
   ]
  },
  {
   "cell_type": "code",
   "execution_count": 118,
   "id": "7ce906fa",
   "metadata": {},
   "outputs": [],
   "source": [
    "regex = r'[\\d]+[\\s]bit[\\s\\w]+Operating System'\n",
    "df['OS'] = df['Feature'].apply(lambda x : re.findall(regex,x))"
   ]
  },
  {
   "cell_type": "code",
   "execution_count": 119,
   "id": "b56709f9",
   "metadata": {},
   "outputs": [],
   "source": [
    "regex = r'[\\d]+\\s(?:GB|TB)\\s(?:HDD|SSD)'\n",
    "df['Storage'] = df['Feature'].apply(lambda x : re.findall(regex,x))"
   ]
  },
  {
   "cell_type": "code",
   "execution_count": 120,
   "id": "23a7517e",
   "metadata": {},
   "outputs": [
    {
     "data": {
      "text/html": [
       "<div>\n",
       "<style scoped>\n",
       "    .dataframe tbody tr th:only-of-type {\n",
       "        vertical-align: middle;\n",
       "    }\n",
       "\n",
       "    .dataframe tbody tr th {\n",
       "        vertical-align: top;\n",
       "    }\n",
       "\n",
       "    .dataframe thead th {\n",
       "        text-align: right;\n",
       "    }\n",
       "</style>\n",
       "<table border=\"1\" class=\"dataframe\">\n",
       "  <thead>\n",
       "    <tr style=\"text-align: right;\">\n",
       "      <th></th>\n",
       "      <th>Product</th>\n",
       "      <th>Rating</th>\n",
       "      <th>MRP</th>\n",
       "      <th>Feature</th>\n",
       "      <th>Brand</th>\n",
       "      <th>Processor</th>\n",
       "      <th>Gen</th>\n",
       "      <th>RAM</th>\n",
       "      <th>Type</th>\n",
       "      <th>OS</th>\n",
       "      <th>Storage</th>\n",
       "    </tr>\n",
       "  </thead>\n",
       "  <tbody>\n",
       "    <tr>\n",
       "      <th>0</th>\n",
       "      <td>Lenovo IdeaPad 3 Core i3 11th Gen - (8 GB/256 ...</td>\n",
       "      <td>4.2</td>\n",
       "      <td>₹36,990</td>\n",
       "      <td>Intel Core i3 Processor (11th Gen)8 GB DDR4 RA...</td>\n",
       "      <td>[Lenovo]</td>\n",
       "      <td>[Intel Core i3 Processor]</td>\n",
       "      <td>[11th Gen]</td>\n",
       "      <td>[8 GB DDR4 RAM]</td>\n",
       "      <td>[DDR4]</td>\n",
       "      <td>[64 bit Windows 11 Operating System]</td>\n",
       "      <td>[256 GB SSD]</td>\n",
       "    </tr>\n",
       "    <tr>\n",
       "      <th>1</th>\n",
       "      <td>Lenovo IdeaPad 3 Core i3 11th Gen - (8 GB/512 ...</td>\n",
       "      <td>4.2</td>\n",
       "      <td>₹39,990</td>\n",
       "      <td>Intel Core i3 Processor (11th Gen)8 GB DDR4 RA...</td>\n",
       "      <td>[Lenovo]</td>\n",
       "      <td>[Intel Core i3 Processor]</td>\n",
       "      <td>[11th Gen]</td>\n",
       "      <td>[8 GB DDR4 RAM]</td>\n",
       "      <td>[DDR4]</td>\n",
       "      <td>[64 bit Windows 11 Operating System]</td>\n",
       "      <td>[512 GB SSD]</td>\n",
       "    </tr>\n",
       "    <tr>\n",
       "      <th>2</th>\n",
       "      <td>ASUS VivoBook 15 (2022) Core i3 10th Gen - (8 ...</td>\n",
       "      <td>4.3</td>\n",
       "      <td>₹32,990</td>\n",
       "      <td>Intel Core i3 Processor (10th Gen)8 GB DDR4 RA...</td>\n",
       "      <td>[ASUS]</td>\n",
       "      <td>[Intel Core i3 Processor]</td>\n",
       "      <td>[10th Gen]</td>\n",
       "      <td>[8 GB DDR4 RAM]</td>\n",
       "      <td>[DDR4]</td>\n",
       "      <td>[64 bit Windows 11 Operating System]</td>\n",
       "      <td>[512 GB SSD]</td>\n",
       "    </tr>\n",
       "    <tr>\n",
       "      <th>3</th>\n",
       "      <td>HP Pavilion Ryzen 5 Hexa Core AMD R5-5600H - (...</td>\n",
       "      <td>4.4</td>\n",
       "      <td>₹49,990</td>\n",
       "      <td>AMD Ryzen 5 Hexa Core Processor8 GB DDR4 RAM64...</td>\n",
       "      <td>[HP]</td>\n",
       "      <td>[AMD Ryzen 5 Hexa Core Processor]</td>\n",
       "      <td>[]</td>\n",
       "      <td>[8 GB DDR4 RAM]</td>\n",
       "      <td>[DDR4]</td>\n",
       "      <td>[64 bit Windows 10 Operating System]</td>\n",
       "      <td>[512 GB SSD]</td>\n",
       "    </tr>\n",
       "    <tr>\n",
       "      <th>4</th>\n",
       "      <td>ASUS TUF Gaming F15 Core i5 10th Gen - (8 GB/5...</td>\n",
       "      <td>4.4</td>\n",
       "      <td>₹49,990</td>\n",
       "      <td>Intel Core i5 Processor (10th Gen)8 GB DDR4 RA...</td>\n",
       "      <td>[ASUS]</td>\n",
       "      <td>[Intel Core i5 Processor]</td>\n",
       "      <td>[10th Gen]</td>\n",
       "      <td>[8 GB DDR4 RAM]</td>\n",
       "      <td>[DDR4]</td>\n",
       "      <td>[]</td>\n",
       "      <td>[512 GB SSD]</td>\n",
       "    </tr>\n",
       "  </tbody>\n",
       "</table>\n",
       "</div>"
      ],
      "text/plain": [
       "                                             Product  Rating      MRP  \\\n",
       "0  Lenovo IdeaPad 3 Core i3 11th Gen - (8 GB/256 ...     4.2  ₹36,990   \n",
       "1  Lenovo IdeaPad 3 Core i3 11th Gen - (8 GB/512 ...     4.2  ₹39,990   \n",
       "2  ASUS VivoBook 15 (2022) Core i3 10th Gen - (8 ...     4.3  ₹32,990   \n",
       "3  HP Pavilion Ryzen 5 Hexa Core AMD R5-5600H - (...     4.4  ₹49,990   \n",
       "4  ASUS TUF Gaming F15 Core i5 10th Gen - (8 GB/5...     4.4  ₹49,990   \n",
       "\n",
       "                                             Feature     Brand  \\\n",
       "0  Intel Core i3 Processor (11th Gen)8 GB DDR4 RA...  [Lenovo]   \n",
       "1  Intel Core i3 Processor (11th Gen)8 GB DDR4 RA...  [Lenovo]   \n",
       "2  Intel Core i3 Processor (10th Gen)8 GB DDR4 RA...    [ASUS]   \n",
       "3  AMD Ryzen 5 Hexa Core Processor8 GB DDR4 RAM64...      [HP]   \n",
       "4  Intel Core i5 Processor (10th Gen)8 GB DDR4 RA...    [ASUS]   \n",
       "\n",
       "                           Processor         Gen              RAM    Type  \\\n",
       "0          [Intel Core i3 Processor]  [11th Gen]  [8 GB DDR4 RAM]  [DDR4]   \n",
       "1          [Intel Core i3 Processor]  [11th Gen]  [8 GB DDR4 RAM]  [DDR4]   \n",
       "2          [Intel Core i3 Processor]  [10th Gen]  [8 GB DDR4 RAM]  [DDR4]   \n",
       "3  [AMD Ryzen 5 Hexa Core Processor]          []  [8 GB DDR4 RAM]  [DDR4]   \n",
       "4          [Intel Core i5 Processor]  [10th Gen]  [8 GB DDR4 RAM]  [DDR4]   \n",
       "\n",
       "                                     OS       Storage  \n",
       "0  [64 bit Windows 11 Operating System]  [256 GB SSD]  \n",
       "1  [64 bit Windows 11 Operating System]  [512 GB SSD]  \n",
       "2  [64 bit Windows 11 Operating System]  [512 GB SSD]  \n",
       "3  [64 bit Windows 10 Operating System]  [512 GB SSD]  \n",
       "4                                    []  [512 GB SSD]  "
      ]
     },
     "execution_count": 120,
     "metadata": {},
     "output_type": "execute_result"
    }
   ],
   "source": [
    "df.head()"
   ]
  },
  {
   "cell_type": "code",
   "execution_count": 121,
   "id": "36878493",
   "metadata": {},
   "outputs": [
    {
     "data": {
      "text/html": [
       "<div>\n",
       "<style scoped>\n",
       "    .dataframe tbody tr th:only-of-type {\n",
       "        vertical-align: middle;\n",
       "    }\n",
       "\n",
       "    .dataframe tbody tr th {\n",
       "        vertical-align: top;\n",
       "    }\n",
       "\n",
       "    .dataframe thead th {\n",
       "        text-align: right;\n",
       "    }\n",
       "</style>\n",
       "<table border=\"1\" class=\"dataframe\">\n",
       "  <thead>\n",
       "    <tr style=\"text-align: right;\">\n",
       "      <th></th>\n",
       "      <th>Product</th>\n",
       "      <th>Rating</th>\n",
       "      <th>MRP</th>\n",
       "      <th>Feature</th>\n",
       "      <th>Brand</th>\n",
       "      <th>Processor</th>\n",
       "      <th>Gen</th>\n",
       "      <th>RAM</th>\n",
       "      <th>Type</th>\n",
       "      <th>OS</th>\n",
       "      <th>Storage</th>\n",
       "    </tr>\n",
       "  </thead>\n",
       "  <tbody>\n",
       "    <tr>\n",
       "      <th>715</th>\n",
       "      <td>ASUS Chromebook Flip Touch Celeron Dual Core -...</td>\n",
       "      <td>4.0</td>\n",
       "      <td>₹23,490</td>\n",
       "      <td>Intel Celeron Dual Core Processor4 GB LPDDR4 R...</td>\n",
       "      <td>[ASUS]</td>\n",
       "      <td>[Intel Celeron Dual Core Processor]</td>\n",
       "      <td>[]</td>\n",
       "      <td>[4 GB LPDDR4 RAM]</td>\n",
       "      <td>[DDR4]</td>\n",
       "      <td>[]</td>\n",
       "      <td>[]</td>\n",
       "    </tr>\n",
       "    <tr>\n",
       "      <th>716</th>\n",
       "      <td>Lenovo IdeaPad Gaming 3 Ryzen 7 Octa Core AMD ...</td>\n",
       "      <td>4.5</td>\n",
       "      <td>₹73,490</td>\n",
       "      <td>AMD Ryzen 7 Octa Core Processor8 GB DDR4 RAM64...</td>\n",
       "      <td>[Lenovo]</td>\n",
       "      <td>[AMD Ryzen 7 Octa Core Processor]</td>\n",
       "      <td>[]</td>\n",
       "      <td>[8 GB DDR4 RAM]</td>\n",
       "      <td>[DDR4]</td>\n",
       "      <td>[64 bit Windows 11 Operating System]</td>\n",
       "      <td>[512 GB SSD]</td>\n",
       "    </tr>\n",
       "    <tr>\n",
       "      <th>717</th>\n",
       "      <td>ASUS ROG Zephyrus G15 Ryzen 9 Octa Core 6900HS...</td>\n",
       "      <td>NaN</td>\n",
       "      <td>₹1,94,990</td>\n",
       "      <td>AMD Ryzen 9 Octa Core Processor16 GB DDR5 RAM6...</td>\n",
       "      <td>[ASUS]</td>\n",
       "      <td>[AMD Ryzen 9 Octa Core Processor]</td>\n",
       "      <td>[]</td>\n",
       "      <td>[16 GB DDR5 RAM]</td>\n",
       "      <td>[DDR5]</td>\n",
       "      <td>[64 bit Windows 11 Operating System]</td>\n",
       "      <td>[1 TB SSD]</td>\n",
       "    </tr>\n",
       "    <tr>\n",
       "      <th>718</th>\n",
       "      <td>ASUS Zenbook Flip 14 OLED (2022) Touch Panel C...</td>\n",
       "      <td>3.0</td>\n",
       "      <td>₹1,25,990</td>\n",
       "      <td>Intel Core i7 Processor (12th Gen)16 GB LPDDR5...</td>\n",
       "      <td>[ASUS]</td>\n",
       "      <td>[Intel Core i7 Processor]</td>\n",
       "      <td>[12th Gen]</td>\n",
       "      <td>[16 GB LPDDR5 RAM]</td>\n",
       "      <td>[DDR5]</td>\n",
       "      <td>[64 bit Windows 11 Operating System]</td>\n",
       "      <td>[512 GB SSD]</td>\n",
       "    </tr>\n",
       "    <tr>\n",
       "      <th>719</th>\n",
       "      <td>Lenovo Ideapad Slim 3i Core i5 10th Gen - (8 G...</td>\n",
       "      <td>4.2</td>\n",
       "      <td>₹50,990</td>\n",
       "      <td>Intel Core i5 Processor (10th Gen)8 GB DDR4 RA...</td>\n",
       "      <td>[Lenovo]</td>\n",
       "      <td>[Intel Core i5 Processor]</td>\n",
       "      <td>[10th Gen]</td>\n",
       "      <td>[8 GB DDR4 RAM]</td>\n",
       "      <td>[DDR4]</td>\n",
       "      <td>[64 bit Windows 10 Operating System]</td>\n",
       "      <td>[1 TB HDD, 256 GB SSD]</td>\n",
       "    </tr>\n",
       "  </tbody>\n",
       "</table>\n",
       "</div>"
      ],
      "text/plain": [
       "                                               Product  Rating        MRP  \\\n",
       "715  ASUS Chromebook Flip Touch Celeron Dual Core -...     4.0    ₹23,490   \n",
       "716  Lenovo IdeaPad Gaming 3 Ryzen 7 Octa Core AMD ...     4.5    ₹73,490   \n",
       "717  ASUS ROG Zephyrus G15 Ryzen 9 Octa Core 6900HS...     NaN  ₹1,94,990   \n",
       "718  ASUS Zenbook Flip 14 OLED (2022) Touch Panel C...     3.0  ₹1,25,990   \n",
       "719  Lenovo Ideapad Slim 3i Core i5 10th Gen - (8 G...     4.2    ₹50,990   \n",
       "\n",
       "                                               Feature     Brand  \\\n",
       "715  Intel Celeron Dual Core Processor4 GB LPDDR4 R...    [ASUS]   \n",
       "716  AMD Ryzen 7 Octa Core Processor8 GB DDR4 RAM64...  [Lenovo]   \n",
       "717  AMD Ryzen 9 Octa Core Processor16 GB DDR5 RAM6...    [ASUS]   \n",
       "718  Intel Core i7 Processor (12th Gen)16 GB LPDDR5...    [ASUS]   \n",
       "719  Intel Core i5 Processor (10th Gen)8 GB DDR4 RA...  [Lenovo]   \n",
       "\n",
       "                               Processor         Gen                 RAM  \\\n",
       "715  [Intel Celeron Dual Core Processor]          []   [4 GB LPDDR4 RAM]   \n",
       "716    [AMD Ryzen 7 Octa Core Processor]          []     [8 GB DDR4 RAM]   \n",
       "717    [AMD Ryzen 9 Octa Core Processor]          []    [16 GB DDR5 RAM]   \n",
       "718            [Intel Core i7 Processor]  [12th Gen]  [16 GB LPDDR5 RAM]   \n",
       "719            [Intel Core i5 Processor]  [10th Gen]     [8 GB DDR4 RAM]   \n",
       "\n",
       "       Type                                    OS                 Storage  \n",
       "715  [DDR4]                                    []                      []  \n",
       "716  [DDR4]  [64 bit Windows 11 Operating System]            [512 GB SSD]  \n",
       "717  [DDR5]  [64 bit Windows 11 Operating System]              [1 TB SSD]  \n",
       "718  [DDR5]  [64 bit Windows 11 Operating System]            [512 GB SSD]  \n",
       "719  [DDR4]  [64 bit Windows 10 Operating System]  [1 TB HDD, 256 GB SSD]  "
      ]
     },
     "execution_count": 121,
     "metadata": {},
     "output_type": "execute_result"
    }
   ],
   "source": [
    "df.tail()"
   ]
  },
  {
   "cell_type": "code",
   "execution_count": 122,
   "id": "4c62b307",
   "metadata": {},
   "outputs": [],
   "source": [
    "df['Brand'] = df['Brand'].apply(lambda x : ''.join(x))\n",
    "df['Processor'] = df['Processor'].apply(lambda x : ''.join(x))\n",
    "df['Gen'] = df['Gen'].apply(lambda x : ''.join(x))\n",
    "df['RAM'] = df['RAM'].apply(lambda x : ''.join(x))\n",
    "df['Type'] = df['Type'].apply(lambda x : ''.join(x))\n",
    "df['OS'] = df['OS'].apply(lambda x : ''.join(x))\n",
    "df['Storage'] = df['Storage'].apply(lambda x : ''.join(x))"
   ]
  },
  {
   "cell_type": "code",
   "execution_count": 123,
   "id": "70ebedd8",
   "metadata": {},
   "outputs": [
    {
     "data": {
      "text/html": [
       "<div>\n",
       "<style scoped>\n",
       "    .dataframe tbody tr th:only-of-type {\n",
       "        vertical-align: middle;\n",
       "    }\n",
       "\n",
       "    .dataframe tbody tr th {\n",
       "        vertical-align: top;\n",
       "    }\n",
       "\n",
       "    .dataframe thead th {\n",
       "        text-align: right;\n",
       "    }\n",
       "</style>\n",
       "<table border=\"1\" class=\"dataframe\">\n",
       "  <thead>\n",
       "    <tr style=\"text-align: right;\">\n",
       "      <th></th>\n",
       "      <th>Product</th>\n",
       "      <th>Rating</th>\n",
       "      <th>MRP</th>\n",
       "      <th>Feature</th>\n",
       "      <th>Brand</th>\n",
       "      <th>Processor</th>\n",
       "      <th>Gen</th>\n",
       "      <th>RAM</th>\n",
       "      <th>Type</th>\n",
       "      <th>OS</th>\n",
       "      <th>Storage</th>\n",
       "    </tr>\n",
       "  </thead>\n",
       "  <tbody>\n",
       "    <tr>\n",
       "      <th>0</th>\n",
       "      <td>Lenovo IdeaPad 3 Core i3 11th Gen - (8 GB/256 ...</td>\n",
       "      <td>4.2</td>\n",
       "      <td>₹36,990</td>\n",
       "      <td>Intel Core i3 Processor (11th Gen)8 GB DDR4 RA...</td>\n",
       "      <td>Lenovo</td>\n",
       "      <td>Intel Core i3 Processor</td>\n",
       "      <td>11th Gen</td>\n",
       "      <td>8 GB DDR4 RAM</td>\n",
       "      <td>DDR4</td>\n",
       "      <td>64 bit Windows 11 Operating System</td>\n",
       "      <td>256 GB SSD</td>\n",
       "    </tr>\n",
       "    <tr>\n",
       "      <th>1</th>\n",
       "      <td>Lenovo IdeaPad 3 Core i3 11th Gen - (8 GB/512 ...</td>\n",
       "      <td>4.2</td>\n",
       "      <td>₹39,990</td>\n",
       "      <td>Intel Core i3 Processor (11th Gen)8 GB DDR4 RA...</td>\n",
       "      <td>Lenovo</td>\n",
       "      <td>Intel Core i3 Processor</td>\n",
       "      <td>11th Gen</td>\n",
       "      <td>8 GB DDR4 RAM</td>\n",
       "      <td>DDR4</td>\n",
       "      <td>64 bit Windows 11 Operating System</td>\n",
       "      <td>512 GB SSD</td>\n",
       "    </tr>\n",
       "    <tr>\n",
       "      <th>2</th>\n",
       "      <td>ASUS VivoBook 15 (2022) Core i3 10th Gen - (8 ...</td>\n",
       "      <td>4.3</td>\n",
       "      <td>₹32,990</td>\n",
       "      <td>Intel Core i3 Processor (10th Gen)8 GB DDR4 RA...</td>\n",
       "      <td>ASUS</td>\n",
       "      <td>Intel Core i3 Processor</td>\n",
       "      <td>10th Gen</td>\n",
       "      <td>8 GB DDR4 RAM</td>\n",
       "      <td>DDR4</td>\n",
       "      <td>64 bit Windows 11 Operating System</td>\n",
       "      <td>512 GB SSD</td>\n",
       "    </tr>\n",
       "    <tr>\n",
       "      <th>3</th>\n",
       "      <td>HP Pavilion Ryzen 5 Hexa Core AMD R5-5600H - (...</td>\n",
       "      <td>4.4</td>\n",
       "      <td>₹49,990</td>\n",
       "      <td>AMD Ryzen 5 Hexa Core Processor8 GB DDR4 RAM64...</td>\n",
       "      <td>HP</td>\n",
       "      <td>AMD Ryzen 5 Hexa Core Processor</td>\n",
       "      <td></td>\n",
       "      <td>8 GB DDR4 RAM</td>\n",
       "      <td>DDR4</td>\n",
       "      <td>64 bit Windows 10 Operating System</td>\n",
       "      <td>512 GB SSD</td>\n",
       "    </tr>\n",
       "    <tr>\n",
       "      <th>4</th>\n",
       "      <td>ASUS TUF Gaming F15 Core i5 10th Gen - (8 GB/5...</td>\n",
       "      <td>4.4</td>\n",
       "      <td>₹49,990</td>\n",
       "      <td>Intel Core i5 Processor (10th Gen)8 GB DDR4 RA...</td>\n",
       "      <td>ASUS</td>\n",
       "      <td>Intel Core i5 Processor</td>\n",
       "      <td>10th Gen</td>\n",
       "      <td>8 GB DDR4 RAM</td>\n",
       "      <td>DDR4</td>\n",
       "      <td></td>\n",
       "      <td>512 GB SSD</td>\n",
       "    </tr>\n",
       "  </tbody>\n",
       "</table>\n",
       "</div>"
      ],
      "text/plain": [
       "                                             Product  Rating      MRP  \\\n",
       "0  Lenovo IdeaPad 3 Core i3 11th Gen - (8 GB/256 ...     4.2  ₹36,990   \n",
       "1  Lenovo IdeaPad 3 Core i3 11th Gen - (8 GB/512 ...     4.2  ₹39,990   \n",
       "2  ASUS VivoBook 15 (2022) Core i3 10th Gen - (8 ...     4.3  ₹32,990   \n",
       "3  HP Pavilion Ryzen 5 Hexa Core AMD R5-5600H - (...     4.4  ₹49,990   \n",
       "4  ASUS TUF Gaming F15 Core i5 10th Gen - (8 GB/5...     4.4  ₹49,990   \n",
       "\n",
       "                                             Feature   Brand  \\\n",
       "0  Intel Core i3 Processor (11th Gen)8 GB DDR4 RA...  Lenovo   \n",
       "1  Intel Core i3 Processor (11th Gen)8 GB DDR4 RA...  Lenovo   \n",
       "2  Intel Core i3 Processor (10th Gen)8 GB DDR4 RA...    ASUS   \n",
       "3  AMD Ryzen 5 Hexa Core Processor8 GB DDR4 RAM64...      HP   \n",
       "4  Intel Core i5 Processor (10th Gen)8 GB DDR4 RA...    ASUS   \n",
       "\n",
       "                         Processor       Gen            RAM  Type  \\\n",
       "0          Intel Core i3 Processor  11th Gen  8 GB DDR4 RAM  DDR4   \n",
       "1          Intel Core i3 Processor  11th Gen  8 GB DDR4 RAM  DDR4   \n",
       "2          Intel Core i3 Processor  10th Gen  8 GB DDR4 RAM  DDR4   \n",
       "3  AMD Ryzen 5 Hexa Core Processor            8 GB DDR4 RAM  DDR4   \n",
       "4          Intel Core i5 Processor  10th Gen  8 GB DDR4 RAM  DDR4   \n",
       "\n",
       "                                   OS     Storage  \n",
       "0  64 bit Windows 11 Operating System  256 GB SSD  \n",
       "1  64 bit Windows 11 Operating System  512 GB SSD  \n",
       "2  64 bit Windows 11 Operating System  512 GB SSD  \n",
       "3  64 bit Windows 10 Operating System  512 GB SSD  \n",
       "4                                      512 GB SSD  "
      ]
     },
     "execution_count": 123,
     "metadata": {},
     "output_type": "execute_result"
    }
   ],
   "source": [
    "df.head()"
   ]
  },
  {
   "cell_type": "code",
   "execution_count": 124,
   "id": "ff781dec",
   "metadata": {},
   "outputs": [
    {
     "name": "stdout",
     "output_type": "stream",
     "text": [
      "<class 'pandas.core.frame.DataFrame'>\n",
      "RangeIndex: 720 entries, 0 to 719\n",
      "Data columns (total 11 columns):\n",
      " #   Column     Non-Null Count  Dtype  \n",
      "---  ------     --------------  -----  \n",
      " 0   Product    720 non-null    object \n",
      " 1   Rating     581 non-null    float64\n",
      " 2   MRP        720 non-null    object \n",
      " 3   Feature    720 non-null    object \n",
      " 4   Brand      720 non-null    object \n",
      " 5   Processor  720 non-null    object \n",
      " 6   Gen        720 non-null    object \n",
      " 7   RAM        720 non-null    object \n",
      " 8   Type       720 non-null    object \n",
      " 9   OS         720 non-null    object \n",
      " 10  Storage    720 non-null    object \n",
      "dtypes: float64(1), object(10)\n",
      "memory usage: 62.0+ KB\n"
     ]
    }
   ],
   "source": [
    "df.info()"
   ]
  },
  {
   "cell_type": "code",
   "execution_count": 125,
   "id": "8dfb8587",
   "metadata": {},
   "outputs": [
    {
     "data": {
      "text/plain": [
       "Product        0\n",
       "Rating       139\n",
       "MRP            0\n",
       "Feature        0\n",
       "Brand          0\n",
       "Processor      0\n",
       "Gen            0\n",
       "RAM            0\n",
       "Type           0\n",
       "OS             0\n",
       "Storage        0\n",
       "dtype: int64"
      ]
     },
     "execution_count": 125,
     "metadata": {},
     "output_type": "execute_result"
    }
   ],
   "source": [
    "df.isnull().sum()"
   ]
  },
  {
   "cell_type": "code",
   "execution_count": 126,
   "id": "99a7fbfd",
   "metadata": {},
   "outputs": [
    {
     "data": {
      "text/plain": [
       "array(['Lenovo', 'ASUS', 'HP', 'DELL', 'RedmiBook', 'realme', 'acer',\n",
       "       'MSI', 'APPLE', 'Infinix', 'SAMSUNG', 'Ultimus', 'Vaio',\n",
       "       'GIGABYTE', 'Nokia', 'ALIENWARE'], dtype=object)"
      ]
     },
     "execution_count": 126,
     "metadata": {},
     "output_type": "execute_result"
    }
   ],
   "source": [
    "df.Brand.unique()"
   ]
  },
  {
   "cell_type": "code",
   "execution_count": 127,
   "id": "ef2d7f4a",
   "metadata": {},
   "outputs": [
    {
     "data": {
      "text/plain": [
       "Index(['Product', 'Rating', 'MRP', 'Feature', 'Brand', 'Processor', 'Gen',\n",
       "       'RAM', 'Type', 'OS', 'Storage'],\n",
       "      dtype='object')"
      ]
     },
     "execution_count": 127,
     "metadata": {},
     "output_type": "execute_result"
    }
   ],
   "source": [
    "df.columns"
   ]
  },
  {
   "cell_type": "code",
   "execution_count": 128,
   "id": "d381e9a0",
   "metadata": {},
   "outputs": [],
   "source": [
    "df['MRP'] = df['MRP'].str.replace(',','').str.replace('₹','')"
   ]
  },
  {
   "cell_type": "code",
   "execution_count": 129,
   "id": "45923836",
   "metadata": {},
   "outputs": [],
   "source": [
    "df['MRP'] = df['MRP'].astype('float')"
   ]
  },
  {
   "cell_type": "code",
   "execution_count": 130,
   "id": "1fef02fb",
   "metadata": {},
   "outputs": [
    {
     "data": {
      "text/plain": [
       "<AxesSubplot:>"
      ]
     },
     "execution_count": 130,
     "metadata": {},
     "output_type": "execute_result"
    },
    {
     "data": {
      "image/png": "[encoded data removed]",
      "text/plain": [
       "<Figure size 432x288 with 1 Axes>"
      ]
     },
     "metadata": {
      "needs_background": "light"
     },
     "output_type": "display_data"
    }
   ],
   "source": [
    "df['MRP'].plot(kind = 'box')"
   ]
  },
  {
   "cell_type": "code",
   "execution_count": 131,
   "id": "d2430577",
   "metadata": {},
   "outputs": [],
   "source": [
    "df = df[df['MRP'] <= 200000]"
   ]
  },
  {
   "cell_type": "code",
   "execution_count": 132,
   "id": "3158806c",
   "metadata": {},
   "outputs": [
    {
     "data": {
      "text/plain": [
       "<AxesSubplot:>"
      ]
     },
     "execution_count": 132,
     "metadata": {},
     "output_type": "execute_result"
    },
    {
     "data": {
      "image/png": "[encoded data removed]",
      "text/plain": [
       "<Figure size 432x288 with 1 Axes>"
      ]
     },
     "metadata": {
      "needs_background": "light"
     },
     "output_type": "display_data"
    }
   ],
   "source": [
    "df['MRP'].plot(kind = 'box')"
   ]
  },
  {
   "cell_type": "code",
   "execution_count": 133,
   "id": "6b0b7f27",
   "metadata": {},
   "outputs": [
    {
     "name": "stdout",
     "output_type": "stream",
     "text": [
      "<class 'pandas.core.frame.DataFrame'>\n",
      "Int64Index: 693 entries, 0 to 719\n",
      "Data columns (total 11 columns):\n",
      " #   Column     Non-Null Count  Dtype  \n",
      "---  ------     --------------  -----  \n",
      " 0   Product    693 non-null    object \n",
      " 1   Rating     569 non-null    float64\n",
      " 2   MRP        693 non-null    float64\n",
      " 3   Feature    693 non-null    object \n",
      " 4   Brand      693 non-null    object \n",
      " 5   Processor  693 non-null    object \n",
      " 6   Gen        693 non-null    object \n",
      " 7   RAM        693 non-null    object \n",
      " 8   Type       693 non-null    object \n",
      " 9   OS         693 non-null    object \n",
      " 10  Storage    693 non-null    object \n",
      "dtypes: float64(2), object(9)\n",
      "memory usage: 65.0+ KB\n"
     ]
    }
   ],
   "source": [
    "df.info()"
   ]
  },
  {
   "cell_type": "code",
   "execution_count": 134,
   "id": "f5bf2535",
   "metadata": {},
   "outputs": [
    {
     "data": {
      "text/plain": [
       "4.313356766256586"
      ]
     },
     "execution_count": 134,
     "metadata": {},
     "output_type": "execute_result"
    }
   ],
   "source": [
    "df['Rating'].mean()"
   ]
  },
  {
   "cell_type": "code",
   "execution_count": 135,
   "id": "b6491742",
   "metadata": {},
   "outputs": [
    {
     "data": {
      "text/plain": [
       "4.3"
      ]
     },
     "execution_count": 135,
     "metadata": {},
     "output_type": "execute_result"
    }
   ],
   "source": [
    "df['Rating'].median()"
   ]
  },
  {
   "cell_type": "code",
   "execution_count": 136,
   "id": "23dfbd47",
   "metadata": {},
   "outputs": [
    {
     "data": {
      "text/plain": [
       "0    4.2\n",
       "Name: Rating, dtype: float64"
      ]
     },
     "execution_count": 136,
     "metadata": {},
     "output_type": "execute_result"
    }
   ],
   "source": [
    "df['Rating'].mode()"
   ]
  },
  {
   "cell_type": "code",
   "execution_count": 137,
   "id": "8aa13d93",
   "metadata": {},
   "outputs": [
    {
     "data": {
      "text/plain": [
       "<AxesSubplot:>"
      ]
     },
     "execution_count": 137,
     "metadata": {},
     "output_type": "execute_result"
    },
    {
     "data": {
      "image/png": "[encoded data removed]",
      "text/plain": [
       "<Figure size 432x288 with 1 Axes>"
      ]
     },
     "metadata": {
      "needs_background": "light"
     },
     "output_type": "display_data"
    }
   ],
   "source": [
    "df['Rating'].plot(kind = 'box')"
   ]
  },
  {
   "cell_type": "code",
   "execution_count": 138,
   "id": "457d6637",
   "metadata": {},
   "outputs": [
    {
     "data": {
      "text/plain": [
       "4.2    165\n",
       "4.3     71\n",
       "4.4     58\n",
       "4.1     55\n",
       "4.6     50\n",
       "4.5     48\n",
       "4.0     27\n",
       "4.9     26\n",
       "3.9     15\n",
       "4.7     15\n",
       "3.7     11\n",
       "5.0     10\n",
       "4.8      8\n",
       "3.8      4\n",
       "3.5      2\n",
       "3.6      2\n",
       "3.4      1\n",
       "3.0      1\n",
       "Name: Rating, dtype: int64"
      ]
     },
     "execution_count": 138,
     "metadata": {},
     "output_type": "execute_result"
    }
   ],
   "source": [
    "df['Rating'].value_counts()"
   ]
  },
  {
   "cell_type": "code",
   "execution_count": 139,
   "id": "8d875273",
   "metadata": {},
   "outputs": [
    {
     "data": {
      "text/plain": [
       "0      4.2\n",
       "1      4.2\n",
       "2      4.3\n",
       "3      4.4\n",
       "4      4.4\n",
       "      ... \n",
       "715    4.0\n",
       "716    4.5\n",
       "717    4.0\n",
       "718    3.0\n",
       "719    4.2\n",
       "Name: Rating, Length: 693, dtype: float64"
      ]
     },
     "execution_count": 139,
     "metadata": {},
     "output_type": "execute_result"
    }
   ],
   "source": [
    "df['Rating'] = df['Rating'].fillna(math.floor(df['Rating'].mode()))\n",
    "df['Rating']"
   ]
  },
  {
   "cell_type": "code",
   "execution_count": 140,
   "id": "f15e7201",
   "metadata": {},
   "outputs": [
    {
     "name": "stdout",
     "output_type": "stream",
     "text": [
      "<class 'pandas.core.frame.DataFrame'>\n",
      "Int64Index: 693 entries, 0 to 719\n",
      "Data columns (total 11 columns):\n",
      " #   Column     Non-Null Count  Dtype  \n",
      "---  ------     --------------  -----  \n",
      " 0   Product    693 non-null    object \n",
      " 1   Rating     693 non-null    float64\n",
      " 2   MRP        693 non-null    float64\n",
      " 3   Feature    693 non-null    object \n",
      " 4   Brand      693 non-null    object \n",
      " 5   Processor  693 non-null    object \n",
      " 6   Gen        693 non-null    object \n",
      " 7   RAM        693 non-null    object \n",
      " 8   Type       693 non-null    object \n",
      " 9   OS         693 non-null    object \n",
      " 10  Storage    693 non-null    object \n",
      "dtypes: float64(2), object(9)\n",
      "memory usage: 65.0+ KB\n"
     ]
    }
   ],
   "source": [
    "df.info()"
   ]
  },
  {
   "cell_type": "code",
   "execution_count": 141,
   "id": "59e9198b",
   "metadata": {},
   "outputs": [
    {
     "data": {
      "text/html": [
       "<div>\n",
       "<style scoped>\n",
       "    .dataframe tbody tr th:only-of-type {\n",
       "        vertical-align: middle;\n",
       "    }\n",
       "\n",
       "    .dataframe tbody tr th {\n",
       "        vertical-align: top;\n",
       "    }\n",
       "\n",
       "    .dataframe thead tr th {\n",
       "        text-align: left;\n",
       "    }\n",
       "\n",
       "    .dataframe thead tr:last-of-type th {\n",
       "        text-align: right;\n",
       "    }\n",
       "</style>\n",
       "<table border=\"1\" class=\"dataframe\">\n",
       "  <thead>\n",
       "    <tr>\n",
       "      <th></th>\n",
       "      <th colspan=\"3\" halign=\"left\">MRP</th>\n",
       "    </tr>\n",
       "    <tr>\n",
       "      <th></th>\n",
       "      <th>max</th>\n",
       "      <th>min</th>\n",
       "      <th>mean</th>\n",
       "    </tr>\n",
       "    <tr>\n",
       "      <th>Brand</th>\n",
       "      <th></th>\n",
       "      <th></th>\n",
       "      <th></th>\n",
       "    </tr>\n",
       "  </thead>\n",
       "  <tbody>\n",
       "    <tr>\n",
       "      <th>ALIENWARE</th>\n",
       "      <td>199990.0</td>\n",
       "      <td>199990.0</td>\n",
       "      <td>199990.000000</td>\n",
       "    </tr>\n",
       "    <tr>\n",
       "      <th>APPLE</th>\n",
       "      <td>181990.0</td>\n",
       "      <td>88990.0</td>\n",
       "      <td>124759.230769</td>\n",
       "    </tr>\n",
       "    <tr>\n",
       "      <th>ASUS</th>\n",
       "      <td>199990.0</td>\n",
       "      <td>14990.0</td>\n",
       "      <td>108994.479167</td>\n",
       "    </tr>\n",
       "    <tr>\n",
       "      <th>DELL</th>\n",
       "      <td>137990.0</td>\n",
       "      <td>30428.0</td>\n",
       "      <td>59558.491228</td>\n",
       "    </tr>\n",
       "    <tr>\n",
       "      <th>GIGABYTE</th>\n",
       "      <td>73990.0</td>\n",
       "      <td>73990.0</td>\n",
       "      <td>73990.000000</td>\n",
       "    </tr>\n",
       "    <tr>\n",
       "      <th>HP</th>\n",
       "      <td>199990.0</td>\n",
       "      <td>25990.0</td>\n",
       "      <td>65195.557377</td>\n",
       "    </tr>\n",
       "    <tr>\n",
       "      <th>Infinix</th>\n",
       "      <td>52990.0</td>\n",
       "      <td>20990.0</td>\n",
       "      <td>36890.000000</td>\n",
       "    </tr>\n",
       "    <tr>\n",
       "      <th>Lenovo</th>\n",
       "      <td>157990.0</td>\n",
       "      <td>19490.0</td>\n",
       "      <td>45454.709184</td>\n",
       "    </tr>\n",
       "    <tr>\n",
       "      <th>MSI</th>\n",
       "      <td>200000.0</td>\n",
       "      <td>43990.0</td>\n",
       "      <td>94767.653846</td>\n",
       "    </tr>\n",
       "    <tr>\n",
       "      <th>Nokia</th>\n",
       "      <td>50490.0</td>\n",
       "      <td>50490.0</td>\n",
       "      <td>50490.000000</td>\n",
       "    </tr>\n",
       "    <tr>\n",
       "      <th>RedmiBook</th>\n",
       "      <td>39990.0</td>\n",
       "      <td>31990.0</td>\n",
       "      <td>39731.935484</td>\n",
       "    </tr>\n",
       "    <tr>\n",
       "      <th>SAMSUNG</th>\n",
       "      <td>59990.0</td>\n",
       "      <td>32990.0</td>\n",
       "      <td>46490.000000</td>\n",
       "    </tr>\n",
       "    <tr>\n",
       "      <th>Ultimus</th>\n",
       "      <td>19990.0</td>\n",
       "      <td>15990.0</td>\n",
       "      <td>17990.000000</td>\n",
       "    </tr>\n",
       "    <tr>\n",
       "      <th>Vaio</th>\n",
       "      <td>40990.0</td>\n",
       "      <td>40990.0</td>\n",
       "      <td>40990.000000</td>\n",
       "    </tr>\n",
       "    <tr>\n",
       "      <th>acer</th>\n",
       "      <td>155490.0</td>\n",
       "      <td>24990.0</td>\n",
       "      <td>64314.742857</td>\n",
       "    </tr>\n",
       "    <tr>\n",
       "      <th>realme</th>\n",
       "      <td>64999.0</td>\n",
       "      <td>46990.0</td>\n",
       "      <td>54324.833333</td>\n",
       "    </tr>\n",
       "  </tbody>\n",
       "</table>\n",
       "</div>"
      ],
      "text/plain": [
       "                MRP                         \n",
       "                max       min           mean\n",
       "Brand                                       \n",
       "ALIENWARE  199990.0  199990.0  199990.000000\n",
       "APPLE      181990.0   88990.0  124759.230769\n",
       "ASUS       199990.0   14990.0  108994.479167\n",
       "DELL       137990.0   30428.0   59558.491228\n",
       "GIGABYTE    73990.0   73990.0   73990.000000\n",
       "HP         199990.0   25990.0   65195.557377\n",
       "Infinix     52990.0   20990.0   36890.000000\n",
       "Lenovo     157990.0   19490.0   45454.709184\n",
       "MSI        200000.0   43990.0   94767.653846\n",
       "Nokia       50490.0   50490.0   50490.000000\n",
       "RedmiBook   39990.0   31990.0   39731.935484\n",
       "SAMSUNG     59990.0   32990.0   46490.000000\n",
       "Ultimus     19990.0   15990.0   17990.000000\n",
       "Vaio        40990.0   40990.0   40990.000000\n",
       "acer       155490.0   24990.0   64314.742857\n",
       "realme      64999.0   46990.0   54324.833333"
      ]
     },
     "execution_count": 141,
     "metadata": {},
     "output_type": "execute_result"
    }
   ],
   "source": [
    "df.groupby(['Brand']).agg({'MRP' : ['max', 'min', ('mean')]})"
   ]
  },
  {
   "cell_type": "code",
   "execution_count": 142,
   "id": "354f485e",
   "metadata": {},
   "outputs": [
    {
     "data": {
      "text/plain": [
       "<AxesSubplot:xlabel='Brand'>"
      ]
     },
     "execution_count": 142,
     "metadata": {},
     "output_type": "execute_result"
    },
    {
     "data": {
      "image/png": "[encoded data removed]",
      "text/plain": [
       "<Figure size 1080x360 with 1 Axes>"
      ]
     },
     "metadata": {
      "needs_background": "light"
     },
     "output_type": "display_data"
    }
   ],
   "source": [
    "df.groupby(['Brand']).agg({'MRP' : ['max', 'min']}).plot(kind = 'bar', figsize = (15, 5))"
   ]
  },
  {
   "cell_type": "code",
   "execution_count": null,
   "id": "d9f450ef",
   "metadata": {},
   "outputs": [],
   "source": []
  },
  {
   "cell_type": "code",
   "execution_count": 143,
   "id": "10d5f50c",
   "metadata": {},
   "outputs": [],
   "source": [
    "df['Processor'] = df['Processor'].str.replace('Processor', '')"
   ]
  },
  {
   "cell_type": "code",
   "execution_count": 144,
   "id": "99b761bb",
   "metadata": {},
   "outputs": [
    {
     "data": {
      "text/plain": [
       "<AxesSubplot:xlabel='Processor'>"
      ]
     },
     "execution_count": 144,
     "metadata": {},
     "output_type": "execute_result"
    },
    {
     "data": {
      "image/png": "[encoded data removed]",
      "text/plain": [
       "<Figure size 1080x360 with 1 Axes>"
      ]
     },
     "metadata": {
      "needs_background": "light"
     },
     "output_type": "display_data"
    }
   ],
   "source": [
    "df.groupby(['Processor']).agg({'MRP' : ['max', 'min']}).plot(kind = 'bar', figsize = (15, 5))"
   ]
  },
  {
   "cell_type": "code",
   "execution_count": 145,
   "id": "1b0d4d4b",
   "metadata": {},
   "outputs": [
    {
     "data": {
      "text/plain": [
       "Text(0, 0.5, 'MRP')"
      ]
     },
     "execution_count": 145,
     "metadata": {},
     "output_type": "execute_result"
    },
    {
     "data": {
      "image/png": "[encoded data removed]",
      "text/plain": [
       "<Figure size 432x288 with 1 Axes>"
      ]
     },
     "metadata": {
      "needs_background": "light"
     },
     "output_type": "display_data"
    }
   ],
   "source": [
    "plt.scatter(df['Processor'], df['MRP'])\n",
    "plt.xlabel('Processor')\n",
    "plt.xticks(rotation = 90)\n",
    "plt.ylabel('MRP')"
   ]
  },
  {
   "cell_type": "code",
   "execution_count": 146,
   "id": "db4d1158",
   "metadata": {},
   "outputs": [],
   "source": [
    "df['RAM'] = df['RAM'].str.replace('RAM', '').str.replace('Memory', '').str.replace('Unified', '')\n",
    "df['RAM'] = df['RAM'].str.replace('DDR4', '').str.replace('DDR3', '').str.replace('DDR5', '')\n",
    "df['RAM'] = df['RAM'].str.replace(\"128 GB SSD for Reduced Boot Up Time and in Game LoadingUpgradable SSD Upto 512 GB and\",'')"
   ]
  },
  {
   "cell_type": "code",
   "execution_count": 147,
   "id": "d1a62303",
   "metadata": {},
   "outputs": [
    {
     "data": {
      "text/plain": [
       "<AxesSubplot:ylabel='RAM'>"
      ]
     },
     "execution_count": 147,
     "metadata": {},
     "output_type": "execute_result"
    },
    {
     "data": {
      "image/png": "[encoded data removed]",
      "text/plain": [
       "<Figure size 1080x1080 with 1 Axes>"
      ]
     },
     "metadata": {
      "needs_background": "light"
     },
     "output_type": "display_data"
    }
   ],
   "source": [
    "df.groupby(['RAM']).agg({'MRP' : ['max', 'min']}).plot(kind = 'barh', figsize = (15, 15))"
   ]
  },
  {
   "cell_type": "code",
   "execution_count": 148,
   "id": "f637814d",
   "metadata": {},
   "outputs": [
    {
     "data": {
      "text/plain": [
       "Text(0, 0.5, 'MRP')"
      ]
     },
     "execution_count": 148,
     "metadata": {},
     "output_type": "execute_result"
    },
    {
     "data": {
      "image/png": "[encoded data removed]",
      "text/plain": [
       "<Figure size 432x288 with 1 Axes>"
      ]
     },
     "metadata": {
      "needs_background": "light"
     },
     "output_type": "display_data"
    }
   ],
   "source": [
    "plt.scatter(df['RAM'], df['MRP'])\n",
    "plt.xlabel('RAM')\n",
    "plt.xticks(rotation = 90)\n",
    "plt.ylabel('MRP')"
   ]
  },
  {
   "cell_type": "code",
   "execution_count": 149,
   "id": "b56c0690",
   "metadata": {},
   "outputs": [
    {
     "data": {
      "text/plain": [
       "<AxesSubplot:xlabel='Storage'>"
      ]
     },
     "execution_count": 149,
     "metadata": {},
     "output_type": "execute_result"
    },
    {
     "data": {
      "image/png": "[encoded data removed]",
      "text/plain": [
       "<Figure size 1080x360 with 1 Axes>"
      ]
     },
     "metadata": {
      "needs_background": "light"
     },
     "output_type": "display_data"
    }
   ],
   "source": [
    "df.groupby(['Storage']).agg({'MRP' : ['max', 'min']}).plot(kind = 'bar', figsize = (15, 5))"
   ]
  },
  {
   "cell_type": "code",
   "execution_count": 150,
   "id": "8f355c8e",
   "metadata": {},
   "outputs": [
    {
     "data": {
      "text/plain": [
       "Text(0, 0.5, 'MRP')"
      ]
     },
     "execution_count": 150,
     "metadata": {},
     "output_type": "execute_result"
    },
    {
     "data": {
      "image/png": "[encoded data removed]",
      "text/plain": [
       "<Figure size 432x288 with 1 Axes>"
      ]
     },
     "metadata": {
      "needs_background": "light"
     },
     "output_type": "display_data"
    }
   ],
   "source": [
    "plt.scatter(df['Storage'], df['MRP'])\n",
    "plt.xlabel('Storage')\n",
    "plt.xticks(rotation = 90)\n",
    "plt.ylabel('MRP')"
   ]
  },
  {
   "cell_type": "code",
   "execution_count": 151,
   "id": "072cc3e5",
   "metadata": {},
   "outputs": [],
   "source": [
    "df['OS'] = df['OS'].str.replace('Operating System', '')"
   ]
  },
  {
   "cell_type": "code",
   "execution_count": 152,
   "id": "1aa794da",
   "metadata": {},
   "outputs": [
    {
     "data": {
      "text/plain": [
       "<AxesSubplot:ylabel='OS'>"
      ]
     },
     "execution_count": 152,
     "metadata": {},
     "output_type": "execute_result"
    },
    {
     "data": {
      "image/png": "[encoded data removed]",
      "text/plain": [
       "<Figure size 1080x360 with 1 Axes>"
      ]
     },
     "metadata": {
      "needs_background": "light"
     },
     "output_type": "display_data"
    }
   ],
   "source": [
    "df.groupby(['OS']).agg({'MRP' : ['max', 'min']}).plot(kind = 'barh', figsize = (15, 5))"
   ]
  },
  {
   "cell_type": "code",
   "execution_count": 153,
   "id": "cd5adf18",
   "metadata": {},
   "outputs": [
    {
     "data": {
      "text/plain": [
       "Product       object\n",
       "Rating       float64\n",
       "MRP          float64\n",
       "Feature       object\n",
       "Brand         object\n",
       "Processor     object\n",
       "Gen           object\n",
       "RAM           object\n",
       "Type          object\n",
       "OS            object\n",
       "Storage       object\n",
       "dtype: object"
      ]
     },
     "execution_count": 153,
     "metadata": {},
     "output_type": "execute_result"
    }
   ],
   "source": [
    "df.dtypes"
   ]
  },
  {
   "cell_type": "code",
   "execution_count": 154,
   "id": "7ff9a060",
   "metadata": {},
   "outputs": [
    {
     "data": {
      "text/plain": [
       "Intel Core i5               150\n",
       "Intel Core i3               129\n",
       "AMD Ryzen 9 Octa Core        84\n",
       "AMD Ryzen 7 Octa Core        76\n",
       "AMD Ryzen 5 Hexa Core        48\n",
       "AMD Ryzen 3 Dual Core        42\n",
       "Intel Core i7                42\n",
       "AMD Ryzen 5 Quad Core        37\n",
       "                             30\n",
       "Intel Celeron Dual Core      20\n",
       "Apple M1                      7\n",
       "Apple M2                      5\n",
       "Intel Core i9                 4\n",
       "AMD Ryzen 3 Quad Core         4\n",
       "Intel Celeron Quad Core       3\n",
       "Intel Pentium Quad Core       3\n",
       "Intel Pentium Silver          2\n",
       "AMD Athlon Dual Core          2\n",
       "Apple M1 Pro                  1\n",
       "AMD Ryzen 5 Dual Core         1\n",
       "AMD Ryzen 7 Quad Core         1\n",
       "AMD Dual Core                 1\n",
       "AMD Ryzen 3 Hexa Core         1\n",
       "Name: Processor, dtype: int64"
      ]
     },
     "execution_count": 154,
     "metadata": {},
     "output_type": "execute_result"
    }
   ],
   "source": [
    "df['Processor'].value_counts()"
   ]
  },
  {
   "cell_type": "code",
   "execution_count": 155,
   "id": "bf2c200c",
   "metadata": {},
   "outputs": [
    {
     "data": {
      "text/plain": [
       "8 GB          381\n",
       "16 GB         225\n",
       "4 GB           26\n",
       "8 GB LPX       16\n",
       "16 GB LPX      16\n",
       "16 GB LP       10\n",
       "4 GB LP         7\n",
       "8 GB            5\n",
       "4 GB LPX        4\n",
       "16 GB           1\n",
       " 8 GB           1\n",
       "32 GB           1\n",
       "Name: RAM, dtype: int64"
      ]
     },
     "execution_count": 155,
     "metadata": {},
     "output_type": "execute_result"
    }
   ],
   "source": [
    "df['RAM'].value_counts()"
   ]
  },
  {
   "cell_type": "code",
   "execution_count": null,
   "id": "18854d65",
   "metadata": {},
   "outputs": [],
   "source": []
  },
  {
   "cell_type": "markdown",
   "id": "be63f28e",
   "metadata": {},
   "source": [
    "# ML Algorithm"
   ]
  },
  {
   "cell_type": "code",
   "execution_count": 156,
   "id": "fcb855cb",
   "metadata": {},
   "outputs": [],
   "source": [
    "X = df[['Processor', 'RAM', 'Storage']] #input\n",
    "Y = df['MRP'] #target"
   ]
  },
  {
   "cell_type": "code",
   "execution_count": null,
   "id": "773a1e40",
   "metadata": {},
   "outputs": [],
   "source": []
  },
  {
   "cell_type": "code",
   "execution_count": 157,
   "id": "efb072b2",
   "metadata": {},
   "outputs": [
    {
     "name": "stdout",
     "output_type": "stream",
     "text": [
      "(485, 3) (485,)\n",
      "(208, 3) (208,)\n"
     ]
    }
   ],
   "source": [
    "from sklearn.model_selection import train_test_split\n",
    "X_train, X_test, y_train, y_test = train_test_split(X, Y, train_size=0.7, \\\n",
    "                                                                    random_state=0)\n",
    "print(X_train.shape, y_train.shape)\n",
    "print(X_test.shape, y_test.shape)"
   ]
  },
  {
   "cell_type": "code",
   "execution_count": 158,
   "id": "e890e5ca",
   "metadata": {},
   "outputs": [],
   "source": [
    "from sklearn.compose import ColumnTransformer\n",
    "from sklearn.pipeline import Pipeline\n",
    "from sklearn.preprocessing import OneHotEncoder\n",
    "from sklearn.linear_model import LinearRegression\n",
    "from sklearn import metrics"
   ]
  },
  {
   "cell_type": "code",
   "execution_count": 159,
   "id": "f4bce073",
   "metadata": {
    "scrolled": true
   },
   "outputs": [
    {
     "name": "stdout",
     "output_type": "stream",
     "text": [
      "Mean Absolute Error:  12193.272697180899\n",
      "R2 Score:  85.48841816041977\n"
     ]
    }
   ],
   "source": [
    "step1 = ColumnTransformer(transformers=[\n",
    "\n",
    "('col_tnf',OneHotEncoder(sparse=False,drop='first',handle_unknown='ignore'),[0,1,2])\n",
    "\n",
    "],remainder='passthrough')\n",
    "\n",
    "step2 = LinearRegression()\n",
    "\n",
    "pipe = Pipeline([\n",
    "\n",
    "('step1',step1),\n",
    "\n",
    "('step2',step2)\n",
    "\n",
    "])\n",
    "\n",
    "pipe.fit(X_train,y_train)\n",
    "\n",
    "y_test_pred = pipe.predict(X_test)\n",
    "\n",
    "print('Mean Absolute Error: ', metrics.mean_absolute_error(y_test, y_test_pred))\n",
    "print('R2 Score: ', r2_score(y_test, y_test_pred)*100)"
   ]
  },
  {
   "cell_type": "code",
   "execution_count": 160,
   "id": "921710f4",
   "metadata": {},
   "outputs": [
    {
     "data": {
      "text/html": [
       "<div>\n",
       "<style scoped>\n",
       "    .dataframe tbody tr th:only-of-type {\n",
       "        vertical-align: middle;\n",
       "    }\n",
       "\n",
       "    .dataframe tbody tr th {\n",
       "        vertical-align: top;\n",
       "    }\n",
       "\n",
       "    .dataframe thead th {\n",
       "        text-align: right;\n",
       "    }\n",
       "</style>\n",
       "<table border=\"1\" class=\"dataframe\">\n",
       "  <thead>\n",
       "    <tr style=\"text-align: right;\">\n",
       "      <th></th>\n",
       "      <th>Processor</th>\n",
       "      <th>RAM</th>\n",
       "      <th>Storage</th>\n",
       "    </tr>\n",
       "  </thead>\n",
       "  <tbody>\n",
       "    <tr>\n",
       "      <th>0</th>\n",
       "      <td>Intel Core i3</td>\n",
       "      <td>8 GB</td>\n",
       "      <td>256 GB SSD</td>\n",
       "    </tr>\n",
       "  </tbody>\n",
       "</table>\n",
       "</div>"
      ],
      "text/plain": [
       "        Processor     RAM     Storage\n",
       "0  Intel Core i3   8 GB    256 GB SSD"
      ]
     },
     "execution_count": 160,
     "metadata": {},
     "output_type": "execute_result"
    }
   ],
   "source": [
    "X.head(1)"
   ]
  },
  {
   "cell_type": "code",
   "execution_count": null,
   "id": "492fbfed",
   "metadata": {},
   "outputs": [],
   "source": []
  },
  {
   "cell_type": "code",
   "execution_count": 161,
   "id": "eb1e3ce4",
   "metadata": {},
   "outputs": [],
   "source": [
    "# encoder = OneHotEncoder(drop='first', sparse=False, handle_unknown = 'ignore')\n",
    "\n",
    "# X_train_transformed = pd.DataFrame(encoder.fit_transform(X_train), \n",
    "#                                    columns=encoder.get_feature_names_out(X_train.columns), \n",
    "#                                    index = X_train.index)"
   ]
  },
  {
   "cell_type": "code",
   "execution_count": 162,
   "id": "27efcaad",
   "metadata": {},
   "outputs": [],
   "source": [
    "# X_test_transformed = pd.DataFrame(encoder.transform(X_test), \n",
    "#                                columns = encoder.get_feature_names_out(X_train.columns), \n",
    "#                                index = X_test.index)"
   ]
  },
  {
   "cell_type": "code",
   "execution_count": 163,
   "id": "1ed35a82",
   "metadata": {},
   "outputs": [],
   "source": [
    "# model = LinearRegression()\n",
    "# model.fit(X_train_transformed, y_train)"
   ]
  },
  {
   "cell_type": "code",
   "execution_count": 164,
   "id": "370be65d",
   "metadata": {},
   "outputs": [],
   "source": [
    "# y_test_pred = model.predict(X_test_transformed)"
   ]
  },
  {
   "cell_type": "code",
   "execution_count": 165,
   "id": "65b65ef7",
   "metadata": {},
   "outputs": [],
   "source": [
    "# from sklearn import metrics\n",
    "\n",
    "# print('Mean Absolute Error: ', metrics.mean_absolute_error(y_test, y_test_pred))\n",
    "\n",
    "# print('Mean Squared Error: ', metrics.mean_squared_error(y_test, y_test_pred))\n",
    "\n",
    "# print('Root Mean Squared Error: ', np.sqrt(metrics.mean_squared_error(y_test, y_test_pred)))"
   ]
  },
  {
   "cell_type": "code",
   "execution_count": 166,
   "id": "251e399e",
   "metadata": {},
   "outputs": [
    {
     "data": {
      "text/plain": [
       "467   -19304.047320\n",
       "144    12216.350286\n",
       "620    12216.350286\n",
       "594    -5085.908095\n",
       "366   -12787.171847\n",
       "           ...     \n",
       "71     -7612.624309\n",
       "670    12216.350286\n",
       "412    11850.681855\n",
       "317   -12787.171847\n",
       "322    10321.134317\n",
       "Name: MRP, Length: 208, dtype: float64"
      ]
     },
     "execution_count": 166,
     "metadata": {},
     "output_type": "execute_result"
    }
   ],
   "source": [
    "diff = y_test - y_test_pred\n",
    "diff"
   ]
  },
  {
   "cell_type": "code",
   "execution_count": 167,
   "id": "ba5d29f4",
   "metadata": {},
   "outputs": [
    {
     "data": {
      "text/plain": [
       "<AxesSubplot:xlabel='MRP', ylabel='Density'>"
      ]
     },
     "execution_count": 167,
     "metadata": {},
     "output_type": "execute_result"
    },
    {
     "data": {
      "image/png": "[encoded data removed]",
      "text/plain": [
       "<Figure size 432x288 with 1 Axes>"
      ]
     },
     "metadata": {
      "needs_background": "light"
     },
     "output_type": "display_data"
    }
   ],
   "source": [
    "sns.distplot(diff)"
   ]
  },
  {
   "cell_type": "code",
   "execution_count": 168,
   "id": "48e61f45",
   "metadata": {},
   "outputs": [
    {
     "data": {
      "text/plain": [
       "<AxesSubplot:xlabel='MRP', ylabel='Count'>"
      ]
     },
     "execution_count": 168,
     "metadata": {},
     "output_type": "execute_result"
    },
    {
     "data": {
      "image/png": "[encoded data removed]",
      "text/plain": [
       "<Figure size 432x288 with 1 Axes>"
      ]
     },
     "metadata": {
      "needs_background": "light"
     },
     "output_type": "display_data"
    }
   ],
   "source": [
    "sns.histplot(y_test, color='blue', alpha=0.5)\n",
    "sns.histplot(y_test_pred, color='black', alpha=0.5)"
   ]
  },
  {
   "cell_type": "code",
   "execution_count": 169,
   "id": "5d43d4c5",
   "metadata": {},
   "outputs": [
    {
     "data": {
      "text/html": [
       "<div>\n",
       "<style scoped>\n",
       "    .dataframe tbody tr th:only-of-type {\n",
       "        vertical-align: middle;\n",
       "    }\n",
       "\n",
       "    .dataframe tbody tr th {\n",
       "        vertical-align: top;\n",
       "    }\n",
       "\n",
       "    .dataframe thead th {\n",
       "        text-align: right;\n",
       "    }\n",
       "</style>\n",
       "<table border=\"1\" class=\"dataframe\">\n",
       "  <thead>\n",
       "    <tr style=\"text-align: right;\">\n",
       "      <th></th>\n",
       "      <th>Actual</th>\n",
       "      <th>Predicted</th>\n",
       "    </tr>\n",
       "  </thead>\n",
       "  <tbody>\n",
       "    <tr>\n",
       "      <th>467</th>\n",
       "      <td>85990.0</td>\n",
       "      <td>105294.047320</td>\n",
       "    </tr>\n",
       "    <tr>\n",
       "      <th>144</th>\n",
       "      <td>73490.0</td>\n",
       "      <td>61273.649714</td>\n",
       "    </tr>\n",
       "    <tr>\n",
       "      <th>620</th>\n",
       "      <td>73490.0</td>\n",
       "      <td>61273.649714</td>\n",
       "    </tr>\n",
       "    <tr>\n",
       "      <th>594</th>\n",
       "      <td>89990.0</td>\n",
       "      <td>95075.908095</td>\n",
       "    </tr>\n",
       "    <tr>\n",
       "      <th>366</th>\n",
       "      <td>39990.0</td>\n",
       "      <td>52777.171847</td>\n",
       "    </tr>\n",
       "    <tr>\n",
       "      <th>...</th>\n",
       "      <td>...</td>\n",
       "      <td>...</td>\n",
       "    </tr>\n",
       "    <tr>\n",
       "      <th>71</th>\n",
       "      <td>44990.0</td>\n",
       "      <td>52602.624309</td>\n",
       "    </tr>\n",
       "    <tr>\n",
       "      <th>670</th>\n",
       "      <td>73490.0</td>\n",
       "      <td>61273.649714</td>\n",
       "    </tr>\n",
       "    <tr>\n",
       "      <th>412</th>\n",
       "      <td>71345.0</td>\n",
       "      <td>59494.318145</td>\n",
       "    </tr>\n",
       "    <tr>\n",
       "      <th>317</th>\n",
       "      <td>39990.0</td>\n",
       "      <td>52777.171847</td>\n",
       "    </tr>\n",
       "    <tr>\n",
       "      <th>322</th>\n",
       "      <td>69990.0</td>\n",
       "      <td>59668.865683</td>\n",
       "    </tr>\n",
       "  </tbody>\n",
       "</table>\n",
       "<p>208 rows × 2 columns</p>\n",
       "</div>"
      ],
      "text/plain": [
       "      Actual      Predicted\n",
       "467  85990.0  105294.047320\n",
       "144  73490.0   61273.649714\n",
       "620  73490.0   61273.649714\n",
       "594  89990.0   95075.908095\n",
       "366  39990.0   52777.171847\n",
       "..       ...            ...\n",
       "71   44990.0   52602.624309\n",
       "670  73490.0   61273.649714\n",
       "412  71345.0   59494.318145\n",
       "317  39990.0   52777.171847\n",
       "322  69990.0   59668.865683\n",
       "\n",
       "[208 rows x 2 columns]"
      ]
     },
     "execution_count": 169,
     "metadata": {},
     "output_type": "execute_result"
    }
   ],
   "source": [
    "temp_df = pd.DataFrame({'Actual' : y_test, 'Predicted' : y_test_pred})\n",
    "temp_df"
   ]
  },
  {
   "cell_type": "code",
   "execution_count": 170,
   "id": "588749ec",
   "metadata": {},
   "outputs": [],
   "source": [
    "# from sklearn.metrics import r2_score\n",
    "# # r2_score(y_test, y_test_pred)*100"
   ]
  },
  {
   "cell_type": "code",
   "execution_count": 171,
   "id": "f6678834",
   "metadata": {},
   "outputs": [],
   "source": [
    "import pickle\n",
    "pickle.dump(df, open('file.pkl', 'wb'))\n",
    "pickle.dump(pipe, open('reg.pkl', 'wb'))"
   ]
  },
  {
   "cell_type": "code",
   "execution_count": 172,
   "id": "914c6141",
   "metadata": {},
   "outputs": [
    {
     "data": {
      "text/html": [
       "<div>\n",
       "<style scoped>\n",
       "    .dataframe tbody tr th:only-of-type {\n",
       "        vertical-align: middle;\n",
       "    }\n",
       "\n",
       "    .dataframe tbody tr th {\n",
       "        vertical-align: top;\n",
       "    }\n",
       "\n",
       "    .dataframe thead th {\n",
       "        text-align: right;\n",
       "    }\n",
       "</style>\n",
       "<table border=\"1\" class=\"dataframe\">\n",
       "  <thead>\n",
       "    <tr style=\"text-align: right;\">\n",
       "      <th></th>\n",
       "      <th>Processor</th>\n",
       "      <th>RAM</th>\n",
       "      <th>Storage</th>\n",
       "    </tr>\n",
       "  </thead>\n",
       "  <tbody>\n",
       "    <tr>\n",
       "      <th>104</th>\n",
       "      <td>AMD Ryzen 5 Hexa Core</td>\n",
       "      <td>8 GB</td>\n",
       "      <td>512 GB SSD</td>\n",
       "    </tr>\n",
       "  </tbody>\n",
       "</table>\n",
       "</div>"
      ],
      "text/plain": [
       "                  Processor     RAM     Storage\n",
       "104  AMD Ryzen 5 Hexa Core   8 GB    512 GB SSD"
      ]
     },
     "execution_count": 172,
     "metadata": {},
     "output_type": "execute_result"
    }
   ],
   "source": [
    "X_train.head(1)"
   ]
  },
  {
   "cell_type": "code",
   "execution_count": 173,
   "id": "73a1dde3",
   "metadata": {},
   "outputs": [
    {
     "data": {
      "text/plain": [
       "array([82399.89781564])"
      ]
     },
     "execution_count": 173,
     "metadata": {},
     "output_type": "execute_result"
    }
   ],
   "source": [
    "pre = np.array(['AMD Ryzen 5 Hexa Core', '8 GB', '512 GB SSD'])\n",
    "pre = pre.reshape(1,3)\n",
    "r = pipe.predict(pre)\n",
    "r"
   ]
  },
  {
   "cell_type": "code",
   "execution_count": 181,
   "id": "8f9a6a84",
   "metadata": {},
   "outputs": [
    {
     "name": "stdout",
     "output_type": "stream",
     "text": [
      "Windows-10-10.0.19041-SP0\n",
      "Python 3.9.12 (main, Apr  4 2022, 05:22:27) [MSC v.1916 64 bit (AMD64)]\n",
      "NumPy 1.21.5\n",
      "SciPy 1.7.3\n",
      "Scikit-Learn 1.0.2\n"
     ]
    }
   ],
   "source": [
    "import platform; print(platform.platform())\n",
    "import sys; print(\"Python\", sys.version)\n",
    "import numpy; print(\"NumPy\", numpy.__version__)\n",
    "import scipy; print(\"SciPy\", scipy.__version__)\n",
    "import sklearn; print(\"Scikit-Learn\", sklearn.__version__)"
   ]
  },
  {
   "cell_type": "code",
   "execution_count": 185,
   "id": "80550f2d",
   "metadata": {},
   "outputs": [
    {
     "name": "stdout",
     "output_type": "stream",
     "text": [
      "Defaulting to user installation because normal site-packages is not writeable\n",
      "Requirement already satisfied: scikit-learn in c:\\users\\home\\appdata\\roaming\\python\\python39\\site-packages (1.2.2)\n",
      "Requirement already satisfied: threadpoolctl>=2.0.0 in c:\\programdata\\anaconda3\\lib\\site-packages (from scikit-learn) (2.2.0)\n",
      "Requirement already satisfied: numpy>=1.17.3 in c:\\programdata\\anaconda3\\lib\\site-packages (from scikit-learn) (1.21.5)\n",
      "Requirement already satisfied: scipy>=1.3.2 in c:\\programdata\\anaconda3\\lib\\site-packages (from scikit-learn) (1.7.3)\n",
      "Requirement already satisfied: joblib>=1.1.1 in c:\\users\\home\\appdata\\roaming\\python\\python39\\site-packages (from scikit-learn) (1.2.0)\n"
     ]
    }
   ],
   "source": [
    "!pip install -U scikit-learn"
   ]
  },
  {
   "cell_type": "code",
   "execution_count": null,
   "id": "839f957c",
   "metadata": {},
   "outputs": [],
   "source": [
    "!pip list -o"
   ]
  },
  {
   "cell_type": "code",
   "execution_count": null,
   "id": "4c8491ad",
   "metadata": {},
   "outputs": [],
   "source": []
  }
 ],
 "metadata": {
  "kernelspec": {
   "display_name": "Python 3 (ipykernel)",
   "language": "python",
   "name": "python3"
  },
  "language_info": {
   "codemirror_mode": {
    "name": "ipython",
    "version": 3
   },
   "file_extension": ".py",
   "mimetype": "text/x-python",
   "name": "python",
   "nbconvert_exporter": "python",
   "pygments_lexer": "ipython3",
   "version": "3.9.12"
  }
 },
 "nbformat": 4,
 "nbformat_minor": 5
}
